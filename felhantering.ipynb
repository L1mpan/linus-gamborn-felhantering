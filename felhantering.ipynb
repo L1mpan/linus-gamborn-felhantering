{
 "metadata": {
  "language_info": {
   "codemirror_mode": {
    "name": "ipython",
    "version": 3
   },
   "file_extension": ".py",
   "mimetype": "text/x-python",
   "name": "python",
   "nbconvert_exporter": "python",
   "pygments_lexer": "ipython3",
   "version": "3.8.5"
  },
  "orig_nbformat": 2,
  "kernelspec": {
   "name": "python3",
   "display_name": "Python 3.8.5 32-bit",
   "metadata": {
    "interpreter": {
     "hash": "a2d8593fff611f9754332d0777eb180e4a8e6768be1727f6f51e233b56b4ca91"
    }
   }
  }
 },
 "nbformat": 4,
 "nbformat_minor": 2,
 "cells": [
  {
   "cell_type": "code",
   "execution_count": 2,
   "metadata": {},
   "outputs": [
    {
     "output_type": "stream",
     "name": "stdout",
     "text": [
      "1.0\n"
     ]
    }
   ],
   "source": [
    "import numpy as np      # ändrade 'impor' till 'import'\n",
    "\n",
    "def distance(x, y):\n",
    "    return np.sqrt(x+y)  # ändrade 'reurn' till 'return'\n",
    "\n",
    "print(distance(0.5, 0.5))"
   ]
  },
  {
   "cell_type": "code",
   "execution_count": 8,
   "metadata": {},
   "outputs": [
    {
     "output_type": "stream",
     "name": "stdout",
     "text": [
      "100 är inte fyrsiffrigt\n231 är inte fyrsiffrigt\n10000 är inte fyrsiffrigt\n10001 är inte fyrsiffrigt\n-1000 är fyrsiffrigt\n102313 är inte fyrsiffrigt\n"
     ]
    }
   ],
   "source": [
    "def ar_fyrsiffrigt(tal):\n",
    "    t = abs(tal)//1000          # Definerar t med ett absolutvärde som är dividerat med 1000\n",
    "    if t < 10 and t >= 1:       # Retunerar true ifall talet är mindre än 10 och större eller likamed 1, annars false\n",
    "        return True\n",
    "    else:\n",
    "        return False\n",
    "\n",
    "testtal = [100, 231, 10000, 10001, -1000, 102313,]\n",
    "\n",
    "for t in testtal:\n",
    "    if ar_fyrsiffrigt(t):\n",
    "        print(f\"{t} är fyrsiffrigt\")\n",
    "    else:\n",
    "        print(f\"{t} är inte fyrsiffrigt\")"
   ]
  },
  {
   "cell_type": "code",
   "execution_count": 14,
   "metadata": {},
   "outputs": [
    {
     "output_type": "stream",
     "name": "stdout",
     "text": [
      "Köp inte ett månadskort\n"
     ]
    }
   ],
   "source": [
    "def try_question(question):\n",
    "    while True:\n",
    "        temp = input(question)\n",
    "        try:\n",
    "            temp = int(temp)\n",
    "            break\n",
    "        except:\n",
    "            print(\"Du kan bara använda numeriska värden när du svarar!\")\n",
    "    return temp\n",
    "\n",
    "åk = try_question(\"Hur många gånger åker du per månad?\")\n",
    "engångskostnad = try_question(\"Hur mycket kostar en resa?\")\n",
    "månadskort = try_question(\"Hur mycket kostar ett månadskort?\")\n",
    "if åk*engångskostnad > månadskort:\n",
    "    print(\"Köp ett månadskort\")\n",
    "else:\n",
    "    print(\"Köp inte ett månadskort\")"
   ]
  },
  {
   "cell_type": "code",
   "execution_count": 15,
   "metadata": {},
   "outputs": [
    {
     "output_type": "stream",
     "name": "stdout",
     "text": [
      "Skriv in 5 tal för att få ut resultat\n",
      "Största talet: 25\n",
      "Minsta talet: 5\n",
      "Medelvärde: 15.0\n",
      "Median: 15\n"
     ]
    }
   ],
   "source": [
    "def try_number_input(question):\n",
    "    while True:\n",
    "        temp = input(question)\n",
    "        try:\n",
    "            temp = int(temp)\n",
    "            break\n",
    "        except:\n",
    "            print(\"Du kan bara använda numeriska värden när du svarar!\")\n",
    "    return temp\n",
    "\n",
    "numbers = []\n",
    "print(\"Skriv in 5 tal för att få ut resultat\")\n",
    "for i in range(5):\n",
    "    numbers.append(try_number_input(\"Skriv ett tal ({}/5)\".format(i+1)))\n",
    "numbers.sort()\n",
    "num_min = min(numbers)\n",
    "num_max = max(numbers)\n",
    "num_mean = sum(numbers)/len(numbers)\n",
    "if len(numbers) % 2 == 1:\n",
    "    num_median = numbers[len(numbers)//2]\n",
    "else:\n",
    "    num_median = (numbers[len(numbers)//2 - 1] + numbers[len(numbers)//2])/2.0\n",
    "print(\"Största talet:\", num_max)\n",
    "print(\"Minsta talet:\", num_min)\n",
    "print(\"Medelvärde:\", num_mean)\n",
    "print(\"Median:\", num_median)"
   ]
  },
  {
   "cell_type": "code",
   "execution_count": null,
   "metadata": {},
   "outputs": [],
   "source": []
  }
 ]
}